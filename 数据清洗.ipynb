{
  "nbformat": 4,
  "nbformat_minor": 0,
  "metadata": {
    "colab": {
      "provenance": [],
      "authorship_tag": "ABX9TyNHIWsNwN9QQhePaiS1lGcI",
      "include_colab_link": true
    },
    "kernelspec": {
      "name": "python3",
      "display_name": "Python 3"
    },
    "language_info": {
      "name": "python"
    }
  },
  "cells": [
    {
      "cell_type": "markdown",
      "metadata": {
        "id": "view-in-github",
        "colab_type": "text"
      },
      "source": [
        "<a href=\"https://colab.research.google.com/github/chenbrilliancesol/AIsky/blob/%E7%BB%83%E4%B9%A0/%E6%95%B0%E6%8D%AE%E6%B8%85%E6%B4%97.ipynb\" target=\"_parent\"><img src=\"https://colab.research.google.com/assets/colab-badge.svg\" alt=\"Open In Colab\"/></a>"
      ]
    },
    {
      "cell_type": "code",
      "execution_count": null,
      "metadata": {
        "colab": {
          "base_uri": "https://localhost:8080/"
        },
        "id": "ElQKp19bn1mZ",
        "outputId": "9ceeb8ec-20ab-4d19-aa8c-e4ef88e53341"
      },
      "outputs": [
        {
          "output_type": "stream",
          "name": "stdout",
          "text": [
            "(2, 3, 3)\n",
            "False\n"
          ]
        }
      ],
      "source": [
        "import numpy as np\n",
        "\n",
        "a = np.array([10, 20, 30])          # (3,)\n",
        "b = np.broadcast_to(a.reshape(1, 3), (2, 3, 3))\n",
        "print(b.shape)        # (2, 3, 4)\n",
        "print(b.base.base is a)  # True —— 仍是视图"
      ]
    },
    {
      "cell_type": "code",
      "source": [
        "def is_view(a, b):\n",
        "    \"\"\"如果 a 和 b 中任意一个是另一个的视图，返回 True，否则 False。\"\"\"\n",
        "    return (a.base is b) or (b.base is a)\n",
        "\n",
        "# 测试\n",
        "x = np.arange(10)\n",
        "y = x[::2]\n",
        "print(is_view(x, y))   # True\n",
        "print(is_view(x, x.copy()))  # False"
      ],
      "metadata": {
        "colab": {
          "base_uri": "https://localhost:8080/"
        },
        "id": "6QYTocODomqK",
        "outputId": "7c4b196f-7984-48ee-c886-3e2e04f83cfc"
      },
      "execution_count": null,
      "outputs": [
        {
          "output_type": "stream",
          "name": "stdout",
          "text": [
            "True\n",
            "False\n"
          ]
        }
      ]
    },
    {
      "cell_type": "code",
      "source": [
        "import pandas as pd\n",
        "import numpy as np\n",
        "\n",
        "# 1. 生造 50 万行数据\n",
        "np.random.seed(0)\n",
        "n = 500_000\n",
        "df = pd.DataFrame({\n",
        "    \"省\": np.random.choice([\"广东\", \"江苏\", \"浙江\"], n),\n",
        "    \"市\": np.random.choice([\"广州\", \"深圳\", \"南京\", \"苏州\", \"杭州\"], n),\n",
        "    \"商品\": np.random.choice([\"可乐\", \"雪碧\", \"芬达\"], n),\n",
        "    \"销量\": np.random.randint(1, 100, n)\n",
        "})\n",
        "print(df)\n",
        "\n",
        "\n",
        "\n",
        "\n",
        "\n",
        "\n"
      ],
      "metadata": {
        "colab": {
          "base_uri": "https://localhost:8080/"
        },
        "id": "qAFMTzwqbz__",
        "outputId": "bb87877e-ab6d-4a58-aaac-305b4bba1e90"
      },
      "execution_count": null,
      "outputs": [
        {
          "output_type": "stream",
          "name": "stdout",
          "text": [
            "         省   市  商品  销量\n",
            "0       广东  苏州  雪碧  38\n",
            "1       江苏  广州  芬达  56\n",
            "2       广东  苏州  可乐   8\n",
            "3       江苏  苏州  雪碧  74\n",
            "4       江苏  苏州  雪碧  57\n",
            "...     ..  ..  ..  ..\n",
            "499995  浙江  深圳  芬达  81\n",
            "499996  浙江  杭州  可乐  92\n",
            "499997  浙江  深圳  雪碧  34\n",
            "499998  江苏  南京  雪碧   5\n",
            "499999  浙江  深圳  可乐  41\n",
            "\n",
            "[500000 rows x 4 columns]\n"
          ]
        }
      ]
    },
    {
      "cell_type": "code",
      "source": [
        "df[\"商品\"] = df[\"商品\"].astype(\"category\")\n",
        "# 2. 会员卡：商品列变成 category\n",
        "print(df['商品'])"
      ],
      "metadata": {
        "colab": {
          "base_uri": "https://localhost:8080/"
        },
        "id": "13bHLCwrb_Z0",
        "outputId": "5bd4e753-11af-40de-9af0-ad07709ddc03"
      },
      "execution_count": null,
      "outputs": [
        {
          "output_type": "stream",
          "name": "stdout",
          "text": [
            "0         雪碧\n",
            "1         芬达\n",
            "2         可乐\n",
            "3         雪碧\n",
            "4         雪碧\n",
            "          ..\n",
            "499995    芬达\n",
            "499996    可乐\n",
            "499997    雪碧\n",
            "499998    雪碧\n",
            "499999    可乐\n",
            "Name: 商品, Length: 500000, dtype: category\n",
            "Categories (3, object): ['可乐', '芬达', '雪碧']\n"
          ]
        }
      ]
    },
    {
      "cell_type": "code",
      "source": [
        "df_indexed = df.set_index([\"省\", \"市\", \"商品\"])\n",
        "# 3. 多层货架：省-市-商品 三层索引\n",
        "print(df_indexed)"
      ],
      "metadata": {
        "colab": {
          "base_uri": "https://localhost:8080/"
        },
        "id": "PzeloM4Db_pI",
        "outputId": "77ffa66e-2bdf-482f-f429-602414304c1b"
      },
      "execution_count": null,
      "outputs": [
        {
          "output_type": "stream",
          "name": "stdout",
          "text": [
            "          销量\n",
            "省  市  商品    \n",
            "广东 苏州 雪碧  38\n",
            "江苏 广州 芬达  56\n",
            "广东 苏州 可乐   8\n",
            "江苏 苏州 雪碧  74\n",
            "      雪碧  57\n",
            "...       ..\n",
            "浙江 深圳 芬达  81\n",
            "   杭州 可乐  92\n",
            "   深圳 雪碧  34\n",
            "江苏 南京 雪碧   5\n",
            "浙江 深圳 可乐  41\n",
            "\n",
            "[500000 rows x 1 columns]\n"
          ]
        }
      ]
    },
    {
      "cell_type": "code",
      "source": [
        "# 4. 汇总：每个省-市-商品 的销量总和\n",
        "result = df_indexed.groupby(level=[0, 1, 2],observed=True).sum()\n",
        "print(result.head())"
      ],
      "metadata": {
        "colab": {
          "base_uri": "https://localhost:8080/"
        },
        "id": "SsqY4Iyyb_5Z",
        "outputId": "9bacfca9-9682-40f0-d3b7-c32666271451"
      },
      "execution_count": null,
      "outputs": [
        {
          "output_type": "stream",
          "name": "stdout",
          "text": [
            "              销量\n",
            "省  市  商品        \n",
            "广东 南京 可乐  555061\n",
            "      芬达  544470\n",
            "      雪碧  554201\n",
            "   广州 可乐  565300\n",
            "      芬达  571081\n"
          ]
        }
      ]
    },
    {
      "cell_type": "code",
      "source": [
        "print(df_indexed.loc[\"广东\"])"
      ],
      "metadata": {
        "colab": {
          "base_uri": "https://localhost:8080/"
        },
        "id": "eBUNvG_7dFn3",
        "outputId": "ea5748d1-11b9-4b24-f998-7d8f20172382"
      },
      "execution_count": null,
      "outputs": [
        {
          "output_type": "stream",
          "name": "stdout",
          "text": [
            "       销量\n",
            "市  商品    \n",
            "苏州 雪碧  38\n",
            "   可乐   8\n",
            "深圳 可乐  87\n",
            "   芬达  29\n",
            "广州 雪碧  36\n",
            "...    ..\n",
            "杭州 雪碧  46\n",
            "广州 可乐  85\n",
            "深圳 芬达  14\n",
            "   可乐  18\n",
            "广州 芬达  91\n",
            "\n",
            "[167279 rows x 1 columns]\n"
          ]
        }
      ]
    },
    {
      "cell_type": "code",
      "source": [
        "df=pd.read_csv('/content/sample_data/california_housing_test.csv')\n",
        "print(df)"
      ],
      "metadata": {
        "colab": {
          "base_uri": "https://localhost:8080/"
        },
        "id": "Du8PpvNrgfJx",
        "outputId": "a00108c8-6c18-46b5-8db8-1c39ad3e3137"
      },
      "execution_count": 19,
      "outputs": [
        {
          "output_type": "stream",
          "name": "stdout",
          "text": [
            "      longitude  latitude  housing_median_age  total_rooms  total_bedrooms  \\\n",
            "0       -122.05     37.37                27.0       3885.0           661.0   \n",
            "1       -118.30     34.26                43.0       1510.0           310.0   \n",
            "2       -117.81     33.78                27.0       3589.0           507.0   \n",
            "3       -118.36     33.82                28.0         67.0            15.0   \n",
            "4       -119.67     36.33                19.0       1241.0           244.0   \n",
            "...         ...       ...                 ...          ...             ...   \n",
            "2995    -119.86     34.42                23.0       1450.0           642.0   \n",
            "2996    -118.14     34.06                27.0       5257.0          1082.0   \n",
            "2997    -119.70     36.30                10.0        956.0           201.0   \n",
            "2998    -117.12     34.10                40.0         96.0            14.0   \n",
            "2999    -119.63     34.42                42.0       1765.0           263.0   \n",
            "\n",
            "      population  households  median_income  median_house_value  \n",
            "0         1537.0       606.0         6.6085            344700.0  \n",
            "1          809.0       277.0         3.5990            176500.0  \n",
            "2         1484.0       495.0         5.7934            270500.0  \n",
            "3           49.0        11.0         6.1359            330000.0  \n",
            "4          850.0       237.0         2.9375             81700.0  \n",
            "...          ...         ...            ...                 ...  \n",
            "2995      1258.0       607.0         1.1790            225000.0  \n",
            "2996      3496.0      1036.0         3.3906            237200.0  \n",
            "2997       693.0       220.0         2.2895             62000.0  \n",
            "2998        46.0        14.0         3.2708            162500.0  \n",
            "2999       753.0       260.0         8.5608            500001.0  \n",
            "\n",
            "[3000 rows x 9 columns]\n"
          ]
        }
      ]
    },
    {
      "cell_type": "code",
      "source": [
        "df['latitude'] = df[\"latitude\"].astype(\"float\")\n",
        "print(df['latitude'])"
      ],
      "metadata": {
        "colab": {
          "base_uri": "https://localhost:8080/"
        },
        "id": "lylViK1thdBf",
        "outputId": "4f8760f3-feb7-481f-bbc6-cc61d1e87504"
      },
      "execution_count": 24,
      "outputs": [
        {
          "output_type": "stream",
          "name": "stdout",
          "text": [
            "0       37.37\n",
            "1       34.26\n",
            "2       33.78\n",
            "3       33.82\n",
            "4       36.33\n",
            "        ...  \n",
            "2995    34.42\n",
            "2996    34.06\n",
            "2997    36.30\n",
            "2998    34.10\n",
            "2999    34.42\n",
            "Name: latitude, Length: 3000, dtype: float64\n"
          ]
        }
      ]
    },
    {
      "cell_type": "code",
      "source": [
        "print(\"真实列名列表：\")\n",
        "print(list(df.columns))"
      ],
      "metadata": {
        "colab": {
          "base_uri": "https://localhost:8080/"
        },
        "id": "Op9lbtQOmY15",
        "outputId": "c8195d0a-81f8-4d24-d106-17131d0bbefb"
      },
      "execution_count": 31,
      "outputs": [
        {
          "output_type": "stream",
          "name": "stdout",
          "text": [
            "真实列名列表：\n",
            "['total_rooms', 'total_bedrooms', 'population', 'households', 'median_income', 'median_house_value']\n"
          ]
        }
      ]
    },
    {
      "cell_type": "code",
      "source": [
        "df = df.set_index([\"total_rooms\", \"total_bedrooms\", \"population\"])\n",
        "print(df)"
      ],
      "metadata": {
        "colab": {
          "base_uri": "https://localhost:8080/"
        },
        "id": "dBKvLbiBlFDn",
        "outputId": "0db51556-f42c-4e90-a504-bc5007071dd9"
      },
      "execution_count": 32,
      "outputs": [
        {
          "output_type": "stream",
          "name": "stdout",
          "text": [
            "                                       households  median_income  \\\n",
            "total_rooms total_bedrooms population                              \n",
            "3885.0      661.0          1537.0           606.0         6.6085   \n",
            "1510.0      310.0          809.0            277.0         3.5990   \n",
            "3589.0      507.0          1484.0           495.0         5.7934   \n",
            "67.0        15.0           49.0              11.0         6.1359   \n",
            "1241.0      244.0          850.0            237.0         2.9375   \n",
            "...                                           ...            ...   \n",
            "1450.0      642.0          1258.0           607.0         1.1790   \n",
            "5257.0      1082.0         3496.0          1036.0         3.3906   \n",
            "956.0       201.0          693.0            220.0         2.2895   \n",
            "96.0        14.0           46.0              14.0         3.2708   \n",
            "1765.0      263.0          753.0            260.0         8.5608   \n",
            "\n",
            "                                       median_house_value  \n",
            "total_rooms total_bedrooms population                      \n",
            "3885.0      661.0          1537.0                344700.0  \n",
            "1510.0      310.0          809.0                 176500.0  \n",
            "3589.0      507.0          1484.0                270500.0  \n",
            "67.0        15.0           49.0                  330000.0  \n",
            "1241.0      244.0          850.0                  81700.0  \n",
            "...                                                   ...  \n",
            "1450.0      642.0          1258.0                225000.0  \n",
            "5257.0      1082.0         3496.0                237200.0  \n",
            "956.0       201.0          693.0                  62000.0  \n",
            "96.0        14.0           46.0                  162500.0  \n",
            "1765.0      263.0          753.0                 500001.0  \n",
            "\n",
            "[3000 rows x 3 columns]\n"
          ]
        }
      ]
    },
    {
      "cell_type": "code",
      "source": [
        "result = df.loc[(1241.0, 244.0, 850.0), :]\n",
        "report = (df.groupby([\"total_rooms\", \"total_bedrooms\", \"population\"])\n",
        "          ['median_house_value'].sum()\n",
        "          .unstack(level='population')\n",
        "          )\n",
        "print(report)"
      ],
      "metadata": {
        "colab": {
          "base_uri": "https://localhost:8080/"
        },
        "id": "BY-agXMkmvea",
        "outputId": "80e0e525-9570-4712-c27d-e2aac78cf08f"
      },
      "execution_count": 38,
      "outputs": [
        {
          "output_type": "stream",
          "name": "stdout",
          "text": [
            "population                   5.0      8.0      14.0     19.0      21.0     \\\n",
            "total_rooms total_bedrooms                                                  \n",
            "6.0         2.0                  NaN  55000.0      NaN      NaN       NaN   \n",
            "16.0        4.0                  NaN  60000.0      NaN      NaN       NaN   \n",
            "18.0        3.0             275000.0      NaN      NaN      NaN       NaN   \n",
            "19.0        19.0                 NaN      NaN      NaN      NaN       NaN   \n",
            "21.0        7.0                  NaN      NaN      NaN      NaN  175000.0   \n",
            "...                              ...      ...      ...      ...       ...   \n",
            "21988.0     4055.0               NaN      NaN      NaN      NaN       NaN   \n",
            "23915.0     4135.0               NaN      NaN      NaN      NaN       NaN   \n",
            "24121.0     4522.0               NaN      NaN      NaN      NaN       NaN   \n",
            "27870.0     5027.0               NaN      NaN      NaN      NaN       NaN   \n",
            "30450.0     5033.0               NaN      NaN      NaN      NaN       NaN   \n",
            "\n",
            "population                  22.0     25.0     26.0     27.0     29.0     ...  \\\n",
            "total_rooms total_bedrooms                                               ...   \n",
            "6.0         2.0                 NaN      NaN      NaN      NaN      NaN  ...   \n",
            "16.0        4.0                 NaN      NaN      NaN      NaN      NaN  ...   \n",
            "18.0        3.0                 NaN      NaN      NaN      NaN      NaN  ...   \n",
            "19.0        19.0                NaN      NaN      NaN      NaN      NaN  ...   \n",
            "21.0        7.0                 NaN      NaN      NaN      NaN      NaN  ...   \n",
            "...                             ...      ...      ...      ...      ...  ...   \n",
            "21988.0     4055.0              NaN      NaN      NaN      NaN      NaN  ...   \n",
            "23915.0     4135.0              NaN      NaN      NaN      NaN      NaN  ...   \n",
            "24121.0     4522.0              NaN      NaN      NaN      NaN      NaN  ...   \n",
            "27870.0     5027.0              NaN      NaN      NaN      NaN      NaN  ...   \n",
            "30450.0     5033.0              NaN      NaN      NaN      NaN      NaN  ...   \n",
            "\n",
            "population                  7560.0   7596.0   7604.0   8152.0   8768.0   \\\n",
            "total_rooms total_bedrooms                                                \n",
            "6.0         2.0                 NaN      NaN      NaN      NaN      NaN   \n",
            "16.0        4.0                 NaN      NaN      NaN      NaN      NaN   \n",
            "18.0        3.0                 NaN      NaN      NaN      NaN      NaN   \n",
            "19.0        19.0                NaN      NaN      NaN      NaN      NaN   \n",
            "21.0        7.0                 NaN      NaN      NaN      NaN      NaN   \n",
            "...                             ...      ...      ...      ...      ...   \n",
            "21988.0     4055.0              NaN      NaN      NaN      NaN      NaN   \n",
            "23915.0     4135.0              NaN      NaN      NaN      NaN      NaN   \n",
            "24121.0     4522.0              NaN      NaN      NaN      NaN      NaN   \n",
            "27870.0     5027.0              NaN      NaN      NaN      NaN      NaN   \n",
            "30450.0     5033.0              NaN      NaN      NaN      NaN      NaN   \n",
            "\n",
            "population                   8824.0    9419.0    10877.0  11139.0   11935.0  \n",
            "total_rooms total_bedrooms                                                   \n",
            "6.0         2.0                  NaN       NaN       NaN      NaN       NaN  \n",
            "16.0        4.0                  NaN       NaN       NaN      NaN       NaN  \n",
            "18.0        3.0                  NaN       NaN       NaN      NaN       NaN  \n",
            "19.0        19.0                 NaN       NaN       NaN      NaN       NaN  \n",
            "21.0        7.0                  NaN       NaN       NaN      NaN       NaN  \n",
            "...                              ...       ...       ...      ...       ...  \n",
            "21988.0     4055.0          191100.0       NaN       NaN      NaN       NaN  \n",
            "23915.0     4135.0               NaN       NaN  244900.0      NaN       NaN  \n",
            "24121.0     4522.0               NaN       NaN       NaN      NaN       NaN  \n",
            "27870.0     5027.0               NaN       NaN       NaN      NaN  212200.0  \n",
            "30450.0     5033.0               NaN  174300.0       NaN      NaN       NaN  \n",
            "\n",
            "[2997 rows x 1802 columns]\n"
          ]
        }
      ]
    }
  ]
}