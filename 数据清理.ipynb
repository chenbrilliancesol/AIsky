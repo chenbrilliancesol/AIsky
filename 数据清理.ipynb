{
  "nbformat": 4,
  "nbformat_minor": 0,
  "metadata": {
    "colab": {
      "provenance": [],
      "authorship_tag": "ABX9TyOgwoAVloMJaTCoVMcUPp1B",
      "include_colab_link": true
    },
    "kernelspec": {
      "name": "python3",
      "display_name": "Python 3"
    },
    "language_info": {
      "name": "python"
    }
  },
  "cells": [
    {
      "cell_type": "markdown",
      "metadata": {
        "id": "view-in-github",
        "colab_type": "text"
      },
      "source": [
        "<a href=\"https://colab.research.google.com/github/chenbrilliancesol/AIsky/blob/main/%E6%95%B0%E6%8D%AE%E6%B8%85%E7%90%86.ipynb\" target=\"_parent\"><img src=\"https://colab.research.google.com/assets/colab-badge.svg\" alt=\"Open In Colab\"/></a>"
      ]
    },
    {
      "cell_type": "code",
      "execution_count": 3,
      "metadata": {
        "colab": {
          "base_uri": "https://localhost:8080/"
        },
        "id": "Zin12ItkUTN0",
        "outputId": "0c60561f-4ac3-44ae-ef56-b8b5826b7de5"
      },
      "outputs": [
        {
          "output_type": "stream",
          "name": "stdout",
          "text": [
            "(100, 5)\n"
          ]
        }
      ],
      "source": [
        "import numpy as np\n",
        "import pandas as pd\n",
        "ratings = np.random.rand(100, 5) * 10  # 100部电影，5个评分维度\n",
        "mean_ratings = ratings.mean(axis=0)    # 计算每个维度均值\n",
        "# 用广播机制标准化（提示：分母用keepdims=True保留维度）\n",
        "normalized = (ratings - mean_ratings) / ratings.std(axis=0)\n",
        "print(normalized.shape)  # 应为(100,5)"
      ]
    },
    {
      "cell_type": "code",
      "source": [
        "# 补救分层索引应用\n",
        "df = pd.DataFrame({\n",
        "    \"省\": [\"江苏\", \"江苏\", \"广东\", \"广东\"],\n",
        "    \"市\": [\"南京\", \"苏州\", \"广州\", \"深圳\"],\n",
        "    \"销量\": [80, 120, 150, 200]\n",
        "})\n",
        "multi_df = df.set_index([\"省\", \"市\"])\n",
        "# 提取江苏所有城市销量（注意：loc[]的元组用法）\n",
        "jiangsu_sales = multi_df.loc[(\"江苏\", slice(None)), \"销量\"]\n",
        "print(jiangsu_sales)"
      ],
      "metadata": {
        "colab": {
          "base_uri": "https://localhost:8080/"
        },
        "id": "ePkkC6P6Um_R",
        "outputId": "0ad134d3-515f-432e-d5c0-edcd4833f21c"
      },
      "execution_count": 5,
      "outputs": [
        {
          "output_type": "stream",
          "name": "stdout",
          "text": [
            "省   市 \n",
            "江苏  南京     80\n",
            "    苏州    120\n",
            "Name: 销量, dtype: int64\n"
          ]
        }
      ]
    },
    {
      "cell_type": "code",
      "source": [
        "# 体验激活函数影响\n",
        "import matplotlib.pyplot as plt\n",
        "x = np.linspace(-5, 5, 100)\n",
        "# 实现ReLU：max(0,x) 和 Sigmoid：1/(1+np.exp(-x))\n",
        "plt.plot(x, np.maximum(0, x), label=\"ReLU\")\n",
        "plt.plot(x, 1/(1+np.exp(-x)), label=\"Sigmoid\")\n",
        "plt.legend(); plt.title(\"激活函数非线性作用\")\n",
        "plt.savefig(\"activation_salvage.png\")  # 存证提交"
      ],
      "metadata": {
        "colab": {
          "base_uri": "https://localhost:8080/",
          "height": 1000
        },
        "id": "j7EJpBk0V7qS",
        "outputId": "4308f7c6-94ad-47e2-ac9d-51deb5898f39"
      },
      "execution_count": 6,
      "outputs": [
        {
          "output_type": "stream",
          "name": "stderr",
          "text": [
            "/tmp/ipython-input-3871961949.py:8: UserWarning: Glyph 28608 (\\N{CJK UNIFIED IDEOGRAPH-6FC0}) missing from font(s) DejaVu Sans.\n",
            "  plt.savefig(\"activation_salvage.png\")  # 存证提交\n",
            "/tmp/ipython-input-3871961949.py:8: UserWarning: Glyph 27963 (\\N{CJK UNIFIED IDEOGRAPH-6D3B}) missing from font(s) DejaVu Sans.\n",
            "  plt.savefig(\"activation_salvage.png\")  # 存证提交\n",
            "/tmp/ipython-input-3871961949.py:8: UserWarning: Glyph 20989 (\\N{CJK UNIFIED IDEOGRAPH-51FD}) missing from font(s) DejaVu Sans.\n",
            "  plt.savefig(\"activation_salvage.png\")  # 存证提交\n",
            "/tmp/ipython-input-3871961949.py:8: UserWarning: Glyph 25968 (\\N{CJK UNIFIED IDEOGRAPH-6570}) missing from font(s) DejaVu Sans.\n",
            "  plt.savefig(\"activation_salvage.png\")  # 存证提交\n",
            "/tmp/ipython-input-3871961949.py:8: UserWarning: Glyph 38750 (\\N{CJK UNIFIED IDEOGRAPH-975E}) missing from font(s) DejaVu Sans.\n",
            "  plt.savefig(\"activation_salvage.png\")  # 存证提交\n",
            "/tmp/ipython-input-3871961949.py:8: UserWarning: Glyph 32447 (\\N{CJK UNIFIED IDEOGRAPH-7EBF}) missing from font(s) DejaVu Sans.\n",
            "  plt.savefig(\"activation_salvage.png\")  # 存证提交\n",
            "/tmp/ipython-input-3871961949.py:8: UserWarning: Glyph 24615 (\\N{CJK UNIFIED IDEOGRAPH-6027}) missing from font(s) DejaVu Sans.\n",
            "  plt.savefig(\"activation_salvage.png\")  # 存证提交\n",
            "/tmp/ipython-input-3871961949.py:8: UserWarning: Glyph 20316 (\\N{CJK UNIFIED IDEOGRAPH-4F5C}) missing from font(s) DejaVu Sans.\n",
            "  plt.savefig(\"activation_salvage.png\")  # 存证提交\n",
            "/tmp/ipython-input-3871961949.py:8: UserWarning: Glyph 29992 (\\N{CJK UNIFIED IDEOGRAPH-7528}) missing from font(s) DejaVu Sans.\n",
            "  plt.savefig(\"activation_salvage.png\")  # 存证提交\n",
            "/usr/local/lib/python3.11/dist-packages/IPython/core/pylabtools.py:151: UserWarning: Glyph 28608 (\\N{CJK UNIFIED IDEOGRAPH-6FC0}) missing from font(s) DejaVu Sans.\n",
            "  fig.canvas.print_figure(bytes_io, **kw)\n",
            "/usr/local/lib/python3.11/dist-packages/IPython/core/pylabtools.py:151: UserWarning: Glyph 27963 (\\N{CJK UNIFIED IDEOGRAPH-6D3B}) missing from font(s) DejaVu Sans.\n",
            "  fig.canvas.print_figure(bytes_io, **kw)\n",
            "/usr/local/lib/python3.11/dist-packages/IPython/core/pylabtools.py:151: UserWarning: Glyph 20989 (\\N{CJK UNIFIED IDEOGRAPH-51FD}) missing from font(s) DejaVu Sans.\n",
            "  fig.canvas.print_figure(bytes_io, **kw)\n",
            "/usr/local/lib/python3.11/dist-packages/IPython/core/pylabtools.py:151: UserWarning: Glyph 25968 (\\N{CJK UNIFIED IDEOGRAPH-6570}) missing from font(s) DejaVu Sans.\n",
            "  fig.canvas.print_figure(bytes_io, **kw)\n",
            "/usr/local/lib/python3.11/dist-packages/IPython/core/pylabtools.py:151: UserWarning: Glyph 38750 (\\N{CJK UNIFIED IDEOGRAPH-975E}) missing from font(s) DejaVu Sans.\n",
            "  fig.canvas.print_figure(bytes_io, **kw)\n",
            "/usr/local/lib/python3.11/dist-packages/IPython/core/pylabtools.py:151: UserWarning: Glyph 32447 (\\N{CJK UNIFIED IDEOGRAPH-7EBF}) missing from font(s) DejaVu Sans.\n",
            "  fig.canvas.print_figure(bytes_io, **kw)\n",
            "/usr/local/lib/python3.11/dist-packages/IPython/core/pylabtools.py:151: UserWarning: Glyph 24615 (\\N{CJK UNIFIED IDEOGRAPH-6027}) missing from font(s) DejaVu Sans.\n",
            "  fig.canvas.print_figure(bytes_io, **kw)\n",
            "/usr/local/lib/python3.11/dist-packages/IPython/core/pylabtools.py:151: UserWarning: Glyph 20316 (\\N{CJK UNIFIED IDEOGRAPH-4F5C}) missing from font(s) DejaVu Sans.\n",
            "  fig.canvas.print_figure(bytes_io, **kw)\n",
            "/usr/local/lib/python3.11/dist-packages/IPython/core/pylabtools.py:151: UserWarning: Glyph 29992 (\\N{CJK UNIFIED IDEOGRAPH-7528}) missing from font(s) DejaVu Sans.\n",
            "  fig.canvas.print_figure(bytes_io, **kw)\n"
          ]
        },
        {
          "output_type": "display_data",
          "data": {
            "text/plain": [
              "<Figure size 640x480 with 1 Axes>"
            ],
            "image/png": "[encoded data removed]"
          },
          "metadata": {}
        }
      ]
    }
  ]
}